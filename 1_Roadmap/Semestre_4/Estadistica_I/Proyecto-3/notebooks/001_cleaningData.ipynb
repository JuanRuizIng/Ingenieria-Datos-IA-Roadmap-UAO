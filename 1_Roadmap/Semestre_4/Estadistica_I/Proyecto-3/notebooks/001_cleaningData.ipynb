{
 "cells": [
  {
   "cell_type": "markdown",
   "metadata": {},
   "source": [
    "# ***U.S Census At School - Cleaning the Data***\n",
    "---"
   ]
  },
  {
   "cell_type": "markdown",
   "metadata": {},
   "source": [
    "### ***Importando las librerías***"
   ]
  },
  {
   "cell_type": "code",
   "execution_count": 1,
   "metadata": {},
   "outputs": [],
   "source": [
    "import pandas as pd\n",
    "import re\n",
    "import matplotlib.pyplot as plt"
   ]
  },
  {
   "cell_type": "markdown",
   "metadata": {},
   "source": [
    "### ***Cargando los dataframes***"
   ]
  },
  {
   "cell_type": "code",
   "execution_count": 2,
   "metadata": {},
   "outputs": [],
   "source": [
    "df_ca = pd.read_csv('../data/sample_data/california.csv', encoding='cp1252')"
   ]
  },
  {
   "cell_type": "code",
   "execution_count": 3,
   "metadata": {},
   "outputs": [],
   "source": [
    "df_fl = pd.read_csv('../data/sample_data/florida.csv', encoding='cp1252')"
   ]
  },
  {
   "cell_type": "code",
   "execution_count": 4,
   "metadata": {},
   "outputs": [],
   "source": [
    "df_ny = pd.read_csv('../data/sample_data/new_york.csv', encoding='cp1252')"
   ]
  },
  {
   "cell_type": "code",
   "execution_count": 5,
   "metadata": {},
   "outputs": [],
   "source": [
    "df_tx = pd.read_csv('../data/sample_data/texas.csv', encoding='cp1252')"
   ]
  },
  {
   "cell_type": "code",
   "execution_count": 6,
   "metadata": {},
   "outputs": [
    {
     "data": {
      "text/html": [
       "<div>\n",
       "<style scoped>\n",
       "    .dataframe tbody tr th:only-of-type {\n",
       "        vertical-align: middle;\n",
       "    }\n",
       "\n",
       "    .dataframe tbody tr th {\n",
       "        vertical-align: top;\n",
       "    }\n",
       "\n",
       "    .dataframe thead th {\n",
       "        text-align: right;\n",
       "    }\n",
       "</style>\n",
       "<table border=\"1\" class=\"dataframe\">\n",
       "  <thead>\n",
       "    <tr style=\"text-align: right;\">\n",
       "      <th></th>\n",
       "      <th>Country</th>\n",
       "      <th>Region</th>\n",
       "      <th>DataYear</th>\n",
       "      <th>ClassGrade</th>\n",
       "      <th>Gender</th>\n",
       "      <th>Ageyears</th>\n",
       "      <th>Handed</th>\n",
       "      <th>Height_cm</th>\n",
       "      <th>Footlength_cm</th>\n",
       "      <th>Armspan_cm</th>\n",
       "      <th>...</th>\n",
       "      <th>Watching_TV_Hours</th>\n",
       "      <th>Paid_Work_Hours</th>\n",
       "      <th>Work_At_Home_Hours</th>\n",
       "      <th>Schoolwork_Pressure</th>\n",
       "      <th>Planned_Education_Level</th>\n",
       "      <th>Favorite_Music</th>\n",
       "      <th>Superpower</th>\n",
       "      <th>Preferred_Status</th>\n",
       "      <th>Role_Model_Type</th>\n",
       "      <th>Charity_Donation</th>\n",
       "    </tr>\n",
       "  </thead>\n",
       "  <tbody>\n",
       "    <tr>\n",
       "      <th>0</th>\n",
       "      <td>USA</td>\n",
       "      <td>CA</td>\n",
       "      <td>2017</td>\n",
       "      <td>11</td>\n",
       "      <td>Male</td>\n",
       "      <td>16.0</td>\n",
       "      <td>Right-Handed</td>\n",
       "      <td>174</td>\n",
       "      <td>26</td>\n",
       "      <td>170</td>\n",
       "      <td>...</td>\n",
       "      <td>6</td>\n",
       "      <td>0</td>\n",
       "      <td>10</td>\n",
       "      <td>A lot</td>\n",
       "      <td>Undergraduate degree</td>\n",
       "      <td>Pop</td>\n",
       "      <td>Freeze time</td>\n",
       "      <td>Rich</td>\n",
       "      <td>Community leader or elder</td>\n",
       "      <td>Other</td>\n",
       "    </tr>\n",
       "    <tr>\n",
       "      <th>1</th>\n",
       "      <td>USA</td>\n",
       "      <td>CA</td>\n",
       "      <td>2014</td>\n",
       "      <td>5</td>\n",
       "      <td>Male</td>\n",
       "      <td>10.0</td>\n",
       "      <td>Right-Handed</td>\n",
       "      <td>146</td>\n",
       "      <td>23</td>\n",
       "      <td>140</td>\n",
       "      <td>...</td>\n",
       "      <td>7</td>\n",
       "      <td>0</td>\n",
       "      <td>7</td>\n",
       "      <td>Very little</td>\n",
       "      <td>Graduate degree</td>\n",
       "      <td>Classical</td>\n",
       "      <td>Invisibility</td>\n",
       "      <td>Happy</td>\n",
       "      <td>Other</td>\n",
       "      <td>Other</td>\n",
       "    </tr>\n",
       "    <tr>\n",
       "      <th>2</th>\n",
       "      <td>USA</td>\n",
       "      <td>CA</td>\n",
       "      <td>2017</td>\n",
       "      <td>12</td>\n",
       "      <td>Male</td>\n",
       "      <td>17.0</td>\n",
       "      <td>Right-Handed</td>\n",
       "      <td>180</td>\n",
       "      <td>25</td>\n",
       "      <td>81</td>\n",
       "      <td>...</td>\n",
       "      <td>1</td>\n",
       "      <td>0</td>\n",
       "      <td>6</td>\n",
       "      <td>Very little</td>\n",
       "      <td>Some college</td>\n",
       "      <td>Techno/Electronic</td>\n",
       "      <td>Fly</td>\n",
       "      <td>Happy</td>\n",
       "      <td>Relative</td>\n",
       "      <td>Wildlife, animals</td>\n",
       "    </tr>\n",
       "    <tr>\n",
       "      <th>3</th>\n",
       "      <td>USA</td>\n",
       "      <td>CA</td>\n",
       "      <td>2023</td>\n",
       "      <td>9</td>\n",
       "      <td>Male</td>\n",
       "      <td>14.0</td>\n",
       "      <td>Right-Handed</td>\n",
       "      <td>173</td>\n",
       "      <td>31</td>\n",
       "      <td>174</td>\n",
       "      <td>...</td>\n",
       "      <td>0</td>\n",
       "      <td>0</td>\n",
       "      <td>7</td>\n",
       "      <td>A lot</td>\n",
       "      <td>Other</td>\n",
       "      <td>Rap/Hip hop</td>\n",
       "      <td>Freeze time</td>\n",
       "      <td>Healthy</td>\n",
       "      <td>Sports person</td>\n",
       "      <td>Health</td>\n",
       "    </tr>\n",
       "    <tr>\n",
       "      <th>4</th>\n",
       "      <td>USA</td>\n",
       "      <td>CA</td>\n",
       "      <td>2013</td>\n",
       "      <td>12</td>\n",
       "      <td>Male</td>\n",
       "      <td>17.0</td>\n",
       "      <td>Right-Handed</td>\n",
       "      <td>160</td>\n",
       "      <td>23.5</td>\n",
       "      <td>58</td>\n",
       "      <td>...</td>\n",
       "      <td>10</td>\n",
       "      <td>0</td>\n",
       "      <td>4</td>\n",
       "      <td>Some</td>\n",
       "      <td>Graduate degree</td>\n",
       "      <td>Pop</td>\n",
       "      <td>Super strength</td>\n",
       "      <td>Happy</td>\n",
       "      <td>Religious figure</td>\n",
       "      <td>Religious</td>\n",
       "    </tr>\n",
       "    <tr>\n",
       "      <th>...</th>\n",
       "      <td>...</td>\n",
       "      <td>...</td>\n",
       "      <td>...</td>\n",
       "      <td>...</td>\n",
       "      <td>...</td>\n",
       "      <td>...</td>\n",
       "      <td>...</td>\n",
       "      <td>...</td>\n",
       "      <td>...</td>\n",
       "      <td>...</td>\n",
       "      <td>...</td>\n",
       "      <td>...</td>\n",
       "      <td>...</td>\n",
       "      <td>...</td>\n",
       "      <td>...</td>\n",
       "      <td>...</td>\n",
       "      <td>...</td>\n",
       "      <td>...</td>\n",
       "      <td>...</td>\n",
       "      <td>...</td>\n",
       "      <td>...</td>\n",
       "    </tr>\n",
       "    <tr>\n",
       "      <th>495</th>\n",
       "      <td>USA</td>\n",
       "      <td>CA</td>\n",
       "      <td>2021</td>\n",
       "      <td>12</td>\n",
       "      <td>Female</td>\n",
       "      <td>16.0</td>\n",
       "      <td>Right-Handed</td>\n",
       "      <td>158</td>\n",
       "      <td>21</td>\n",
       "      <td>153</td>\n",
       "      <td>...</td>\n",
       "      <td>0</td>\n",
       "      <td>0</td>\n",
       "      <td>0</td>\n",
       "      <td>Some</td>\n",
       "      <td>Graduate degree</td>\n",
       "      <td>Pop</td>\n",
       "      <td>Telepathy</td>\n",
       "      <td>Rich</td>\n",
       "      <td>Relative</td>\n",
       "      <td>Environment</td>\n",
       "    </tr>\n",
       "    <tr>\n",
       "      <th>496</th>\n",
       "      <td>USA</td>\n",
       "      <td>CA</td>\n",
       "      <td>2022</td>\n",
       "      <td>8</td>\n",
       "      <td>Female</td>\n",
       "      <td>13.0</td>\n",
       "      <td>NaN</td>\n",
       "      <td>5'10</td>\n",
       "      <td>15</td>\n",
       "      <td>20</td>\n",
       "      <td>...</td>\n",
       "      <td>?</td>\n",
       "      <td>?</td>\n",
       "      <td>?</td>\n",
       "      <td>NaN</td>\n",
       "      <td>Other</td>\n",
       "      <td>Other</td>\n",
       "      <td>Invisibility</td>\n",
       "      <td>Healthy</td>\n",
       "      <td>Other</td>\n",
       "      <td>Other</td>\n",
       "    </tr>\n",
       "    <tr>\n",
       "      <th>497</th>\n",
       "      <td>USA</td>\n",
       "      <td>CA</td>\n",
       "      <td>2018</td>\n",
       "      <td>8</td>\n",
       "      <td>Female</td>\n",
       "      <td>13.0</td>\n",
       "      <td>Right-Handed</td>\n",
       "      <td>164</td>\n",
       "      <td>32</td>\n",
       "      <td>166</td>\n",
       "      <td>...</td>\n",
       "      <td>4</td>\n",
       "      <td>0</td>\n",
       "      <td>2</td>\n",
       "      <td>Very little</td>\n",
       "      <td>Some college</td>\n",
       "      <td>Pop</td>\n",
       "      <td>Telepathy</td>\n",
       "      <td>Famous</td>\n",
       "      <td>Musician or singer</td>\n",
       "      <td>Other</td>\n",
       "    </tr>\n",
       "    <tr>\n",
       "      <th>498</th>\n",
       "      <td>USA</td>\n",
       "      <td>CA</td>\n",
       "      <td>2022</td>\n",
       "      <td>7</td>\n",
       "      <td>Female</td>\n",
       "      <td>12.0</td>\n",
       "      <td>Right-Handed</td>\n",
       "      <td>155</td>\n",
       "      <td>22</td>\n",
       "      <td>153</td>\n",
       "      <td>...</td>\n",
       "      <td>0</td>\n",
       "      <td>0</td>\n",
       "      <td>3</td>\n",
       "      <td>Some</td>\n",
       "      <td>Graduate degree</td>\n",
       "      <td>Other</td>\n",
       "      <td>Telepathy</td>\n",
       "      <td>Rich</td>\n",
       "      <td>Business person</td>\n",
       "      <td>International aid</td>\n",
       "    </tr>\n",
       "    <tr>\n",
       "      <th>499</th>\n",
       "      <td>USA</td>\n",
       "      <td>CA</td>\n",
       "      <td>2023</td>\n",
       "      <td>12</td>\n",
       "      <td>Male</td>\n",
       "      <td>16.0</td>\n",
       "      <td>Right-Handed</td>\n",
       "      <td>168</td>\n",
       "      <td>22</td>\n",
       "      <td>160</td>\n",
       "      <td>...</td>\n",
       "      <td>NaN</td>\n",
       "      <td>NaN</td>\n",
       "      <td>NaN</td>\n",
       "      <td>NaN</td>\n",
       "      <td>NaN</td>\n",
       "      <td>NaN</td>\n",
       "      <td>NaN</td>\n",
       "      <td>NaN</td>\n",
       "      <td>NaN</td>\n",
       "      <td>NaN</td>\n",
       "    </tr>\n",
       "  </tbody>\n",
       "</table>\n",
       "<p>500 rows × 60 columns</p>\n",
       "</div>"
      ],
      "text/plain": [
       "    Country Region  DataYear  ClassGrade  Gender  Ageyears        Handed  \\\n",
       "0       USA     CA      2017          11    Male      16.0  Right-Handed   \n",
       "1       USA     CA      2014           5    Male      10.0  Right-Handed   \n",
       "2       USA     CA      2017          12    Male      17.0  Right-Handed   \n",
       "3       USA     CA      2023           9    Male      14.0  Right-Handed   \n",
       "4       USA     CA      2013          12    Male      17.0  Right-Handed   \n",
       "..      ...    ...       ...         ...     ...       ...           ...   \n",
       "495     USA     CA      2021          12  Female      16.0  Right-Handed   \n",
       "496     USA     CA      2022           8  Female      13.0           NaN   \n",
       "497     USA     CA      2018           8  Female      13.0  Right-Handed   \n",
       "498     USA     CA      2022           7  Female      12.0  Right-Handed   \n",
       "499     USA     CA      2023          12    Male      16.0  Right-Handed   \n",
       "\n",
       "    Height_cm Footlength_cm Armspan_cm  ...  Watching_TV_Hours  \\\n",
       "0         174            26        170  ...                  6   \n",
       "1         146            23        140  ...                  7   \n",
       "2         180            25         81  ...                  1   \n",
       "3         173            31        174  ...                  0   \n",
       "4         160          23.5         58  ...                 10   \n",
       "..        ...           ...        ...  ...                ...   \n",
       "495       158            21        153  ...                  0   \n",
       "496      5'10            15         20  ...                  ?   \n",
       "497       164            32        166  ...                  4   \n",
       "498       155            22        153  ...                  0   \n",
       "499       168            22        160  ...                NaN   \n",
       "\n",
       "    Paid_Work_Hours Work_At_Home_Hours  Schoolwork_Pressure  \\\n",
       "0                 0                 10                A lot   \n",
       "1                 0                  7          Very little   \n",
       "2                 0                  6          Very little   \n",
       "3                 0                  7                A lot   \n",
       "4                 0                  4                 Some   \n",
       "..              ...                ...                  ...   \n",
       "495               0                  0                 Some   \n",
       "496               ?                  ?                  NaN   \n",
       "497               0                  2          Very little   \n",
       "498               0                  3                 Some   \n",
       "499             NaN                NaN                  NaN   \n",
       "\n",
       "     Planned_Education_Level     Favorite_Music      Superpower  \\\n",
       "0       Undergraduate degree                Pop     Freeze time   \n",
       "1            Graduate degree          Classical    Invisibility   \n",
       "2               Some college  Techno/Electronic             Fly   \n",
       "3                      Other        Rap/Hip hop     Freeze time   \n",
       "4            Graduate degree                Pop  Super strength   \n",
       "..                       ...                ...             ...   \n",
       "495          Graduate degree                Pop       Telepathy   \n",
       "496                    Other              Other    Invisibility   \n",
       "497             Some college                Pop       Telepathy   \n",
       "498          Graduate degree              Other       Telepathy   \n",
       "499                      NaN                NaN             NaN   \n",
       "\n",
       "    Preferred_Status            Role_Model_Type   Charity_Donation  \n",
       "0               Rich  Community leader or elder              Other  \n",
       "1              Happy                      Other              Other  \n",
       "2              Happy                   Relative  Wildlife, animals  \n",
       "3            Healthy              Sports person             Health  \n",
       "4              Happy           Religious figure          Religious  \n",
       "..               ...                        ...                ...  \n",
       "495             Rich                   Relative        Environment  \n",
       "496          Healthy                      Other              Other  \n",
       "497           Famous         Musician or singer              Other  \n",
       "498             Rich            Business person  International aid  \n",
       "499              NaN                        NaN                NaN  \n",
       "\n",
       "[500 rows x 60 columns]"
      ]
     },
     "execution_count": 6,
     "metadata": {},
     "output_type": "execute_result"
    }
   ],
   "source": [
    "df_ca"
   ]
  },
  {
   "cell_type": "markdown",
   "metadata": {},
   "source": [
    "## **Limpieza y transformación de datos**"
   ]
  },
  {
   "cell_type": "markdown",
   "metadata": {},
   "source": [
    "### ***Revisando columnas y seleccionando las que se van a usar***"
   ]
  },
  {
   "cell_type": "code",
   "execution_count": 7,
   "metadata": {},
   "outputs": [
    {
     "data": {
      "text/plain": [
       "Index(['Country', 'Region', 'DataYear', 'ClassGrade', 'Gender', 'Ageyears',\n",
       "       'Handed', 'Height_cm', 'Footlength_cm', 'Armspan_cm',\n",
       "       'Languages_spoken', 'Travel_to_School', 'Travel_time_to_School',\n",
       "       'Reaction_time', 'Score_in_memory_game', 'Favourite_physical_activity',\n",
       "       'Importance_reducing_pollution', 'Importance_recycling_rubbish',\n",
       "       'Importance_conserving_water', 'Importance_saving_energy',\n",
       "       'Importance_owning_computer', 'Importance_Internet_access',\n",
       "       'Left_Footlength_cm', 'Longer_foot', 'Index_Fingerlength_mm',\n",
       "       'Ring_Fingerlength_mm', 'Longer_Finger_Lefthand', 'Birth_month',\n",
       "       'Favorite_Season', 'Allergies', 'Vegetarian', 'Favorite_Food',\n",
       "       'Beverage', 'Favorite_School_Subject', 'Sleep_Hours_Schoolnight',\n",
       "       'Sleep_Hours_Non_Schoolnight', 'Home_Occupants', 'Home_Internet_Access',\n",
       "       'Communication_With_Friends', 'Text_Messages_Sent_Yesterday',\n",
       "       'Text_Messages_Received_Yesterday', 'Hanging_Out_With_Friends_Hours',\n",
       "       'Talking_On_Phone_Hours', 'Doing_Homework_Hours',\n",
       "       'Doing_Things_With_Family_Hours', 'Outdoor_Activities_Hours',\n",
       "       'Video_Games_Hours', 'Social_Websites_Hours', 'Texting_Messaging_Hours',\n",
       "       'Computer_Use_Hours', 'Watching_TV_Hours', 'Paid_Work_Hours',\n",
       "       'Work_At_Home_Hours', 'Schoolwork_Pressure', 'Planned_Education_Level',\n",
       "       'Favorite_Music', 'Superpower', 'Preferred_Status', 'Role_Model_Type',\n",
       "       'Charity_Donation'],\n",
       "      dtype='object')"
      ]
     },
     "execution_count": 7,
     "metadata": {},
     "output_type": "execute_result"
    }
   ],
   "source": [
    "df_ca.columns # Todos los dataframes tienen las mismas columnas"
   ]
  },
  {
   "cell_type": "code",
   "execution_count": 8,
   "metadata": {},
   "outputs": [],
   "source": [
    "def selecccionando_columnas(df):\n",
    "    return df[['Height_cm', 'Armspan_cm']]"
   ]
  },
  {
   "cell_type": "markdown",
   "metadata": {},
   "source": [
    "### ***Uniendo los dataframes***"
   ]
  },
  {
   "cell_type": "code",
   "execution_count": 9,
   "metadata": {},
   "outputs": [],
   "source": [
    "df_merged = pd.concat([selecccionando_columnas(df_ca), selecccionando_columnas(df_fl), selecccionando_columnas(df_ny), selecccionando_columnas(df_tx)])\n",
    "df_merged = df_merged.reset_index(drop=True)"
   ]
  },
  {
   "cell_type": "code",
   "execution_count": 10,
   "metadata": {},
   "outputs": [
    {
     "data": {
      "text/html": [
       "<div>\n",
       "<style scoped>\n",
       "    .dataframe tbody tr th:only-of-type {\n",
       "        vertical-align: middle;\n",
       "    }\n",
       "\n",
       "    .dataframe tbody tr th {\n",
       "        vertical-align: top;\n",
       "    }\n",
       "\n",
       "    .dataframe thead th {\n",
       "        text-align: right;\n",
       "    }\n",
       "</style>\n",
       "<table border=\"1\" class=\"dataframe\">\n",
       "  <thead>\n",
       "    <tr style=\"text-align: right;\">\n",
       "      <th></th>\n",
       "      <th>Height_cm</th>\n",
       "      <th>Armspan_cm</th>\n",
       "    </tr>\n",
       "  </thead>\n",
       "  <tbody>\n",
       "    <tr>\n",
       "      <th>0</th>\n",
       "      <td>174</td>\n",
       "      <td>170</td>\n",
       "    </tr>\n",
       "    <tr>\n",
       "      <th>1</th>\n",
       "      <td>146</td>\n",
       "      <td>140</td>\n",
       "    </tr>\n",
       "    <tr>\n",
       "      <th>2</th>\n",
       "      <td>180</td>\n",
       "      <td>81</td>\n",
       "    </tr>\n",
       "    <tr>\n",
       "      <th>3</th>\n",
       "      <td>173</td>\n",
       "      <td>174</td>\n",
       "    </tr>\n",
       "    <tr>\n",
       "      <th>4</th>\n",
       "      <td>160</td>\n",
       "      <td>58</td>\n",
       "    </tr>\n",
       "    <tr>\n",
       "      <th>...</th>\n",
       "      <td>...</td>\n",
       "      <td>...</td>\n",
       "    </tr>\n",
       "    <tr>\n",
       "      <th>1995</th>\n",
       "      <td>178</td>\n",
       "      <td>177</td>\n",
       "    </tr>\n",
       "    <tr>\n",
       "      <th>1996</th>\n",
       "      <td>175</td>\n",
       "      <td>NaN</td>\n",
       "    </tr>\n",
       "    <tr>\n",
       "      <th>1997</th>\n",
       "      <td>175.2</td>\n",
       "      <td>165.1</td>\n",
       "    </tr>\n",
       "    <tr>\n",
       "      <th>1998</th>\n",
       "      <td>5'8</td>\n",
       "      <td>150</td>\n",
       "    </tr>\n",
       "    <tr>\n",
       "      <th>1999</th>\n",
       "      <td>75</td>\n",
       "      <td>72</td>\n",
       "    </tr>\n",
       "  </tbody>\n",
       "</table>\n",
       "<p>2000 rows × 2 columns</p>\n",
       "</div>"
      ],
      "text/plain": [
       "     Height_cm Armspan_cm\n",
       "0          174        170\n",
       "1          146        140\n",
       "2          180         81\n",
       "3          173        174\n",
       "4          160         58\n",
       "...        ...        ...\n",
       "1995       178        177\n",
       "1996       175        NaN\n",
       "1997     175.2      165.1\n",
       "1998       5'8        150\n",
       "1999        75         72\n",
       "\n",
       "[2000 rows x 2 columns]"
      ]
     },
     "execution_count": 10,
     "metadata": {},
     "output_type": "execute_result"
    }
   ],
   "source": [
    "df_merged"
   ]
  },
  {
   "cell_type": "markdown",
   "metadata": {},
   "source": [
    "#### ***Removiendo las filas con valores nulos***"
   ]
  },
  {
   "cell_type": "code",
   "execution_count": 11,
   "metadata": {},
   "outputs": [],
   "source": [
    "df_merged = df_merged.dropna()"
   ]
  },
  {
   "cell_type": "markdown",
   "metadata": {},
   "source": [
    "#### ***Revisando los tipos de datos en el dataframe nuevo***"
   ]
  },
  {
   "cell_type": "code",
   "execution_count": 12,
   "metadata": {},
   "outputs": [
    {
     "data": {
      "text/html": [
       "<div>\n",
       "<style scoped>\n",
       "    .dataframe tbody tr th:only-of-type {\n",
       "        vertical-align: middle;\n",
       "    }\n",
       "\n",
       "    .dataframe tbody tr th {\n",
       "        vertical-align: top;\n",
       "    }\n",
       "\n",
       "    .dataframe thead th {\n",
       "        text-align: right;\n",
       "    }\n",
       "</style>\n",
       "<table border=\"1\" class=\"dataframe\">\n",
       "  <thead>\n",
       "    <tr style=\"text-align: right;\">\n",
       "      <th></th>\n",
       "      <th>Height_cm</th>\n",
       "      <th>Armspan_cm</th>\n",
       "    </tr>\n",
       "  </thead>\n",
       "  <tbody>\n",
       "    <tr>\n",
       "      <th>0</th>\n",
       "      <td>174</td>\n",
       "      <td>170</td>\n",
       "    </tr>\n",
       "    <tr>\n",
       "      <th>1</th>\n",
       "      <td>146</td>\n",
       "      <td>140</td>\n",
       "    </tr>\n",
       "    <tr>\n",
       "      <th>2</th>\n",
       "      <td>180</td>\n",
       "      <td>81</td>\n",
       "    </tr>\n",
       "    <tr>\n",
       "      <th>3</th>\n",
       "      <td>173</td>\n",
       "      <td>174</td>\n",
       "    </tr>\n",
       "    <tr>\n",
       "      <th>4</th>\n",
       "      <td>160</td>\n",
       "      <td>58</td>\n",
       "    </tr>\n",
       "    <tr>\n",
       "      <th>...</th>\n",
       "      <td>...</td>\n",
       "      <td>...</td>\n",
       "    </tr>\n",
       "    <tr>\n",
       "      <th>1994</th>\n",
       "      <td>151</td>\n",
       "      <td>152</td>\n",
       "    </tr>\n",
       "    <tr>\n",
       "      <th>1995</th>\n",
       "      <td>178</td>\n",
       "      <td>177</td>\n",
       "    </tr>\n",
       "    <tr>\n",
       "      <th>1997</th>\n",
       "      <td>175.2</td>\n",
       "      <td>165.1</td>\n",
       "    </tr>\n",
       "    <tr>\n",
       "      <th>1998</th>\n",
       "      <td>5'8</td>\n",
       "      <td>150</td>\n",
       "    </tr>\n",
       "    <tr>\n",
       "      <th>1999</th>\n",
       "      <td>75</td>\n",
       "      <td>72</td>\n",
       "    </tr>\n",
       "  </tbody>\n",
       "</table>\n",
       "<p>1785 rows × 2 columns</p>\n",
       "</div>"
      ],
      "text/plain": [
       "     Height_cm Armspan_cm\n",
       "0          174        170\n",
       "1          146        140\n",
       "2          180         81\n",
       "3          173        174\n",
       "4          160         58\n",
       "...        ...        ...\n",
       "1994       151        152\n",
       "1995       178        177\n",
       "1997     175.2      165.1\n",
       "1998       5'8        150\n",
       "1999        75         72\n",
       "\n",
       "[1785 rows x 2 columns]"
      ]
     },
     "execution_count": 12,
     "metadata": {},
     "output_type": "execute_result"
    }
   ],
   "source": [
    "df_merged"
   ]
  },
  {
   "cell_type": "code",
   "execution_count": 13,
   "metadata": {},
   "outputs": [],
   "source": [
    "df_merged = df_merged.sample(frac=1).reset_index(drop=True)\n",
    "df_merged = df_merged.iloc[120:].reset_index(drop=True)"
   ]
  },
  {
   "cell_type": "code",
   "execution_count": 14,
   "metadata": {},
   "outputs": [],
   "source": [
    "df_merged = df_merged[pd.to_numeric(df_merged['Height_cm'], errors='coerce').notna()]\n",
    "df_merged = df_merged[pd.to_numeric(df_merged['Armspan_cm'], errors='coerce').notna()]\n",
    "\n",
    "# Convierte a tipo float y luego a int\n",
    "df_merged['Height_cm'] = df_merged['Height_cm'].astype(float).round(0).astype(int)\n",
    "df_merged['Armspan_cm'] = df_merged['Armspan_cm'].astype(float).round(0).astype(int)\n"
   ]
  },
  {
   "cell_type": "code",
   "execution_count": 15,
   "metadata": {},
   "outputs": [
    {
     "name": "stdout",
     "output_type": "stream",
     "text": [
      "<class 'pandas.core.frame.DataFrame'>\n",
      "Index: 1590 entries, 0 to 1664\n",
      "Data columns (total 2 columns):\n",
      " #   Column      Non-Null Count  Dtype\n",
      "---  ------      --------------  -----\n",
      " 0   Height_cm   1590 non-null   int64\n",
      " 1   Armspan_cm  1590 non-null   int64\n",
      "dtypes: int64(2)\n",
      "memory usage: 37.3 KB\n"
     ]
    }
   ],
   "source": [
    "df_merged.info()"
   ]
  },
  {
   "cell_type": "markdown",
   "metadata": {},
   "source": [
    "### ***Revisando valores únicos en variables de tipo ordinal y transformando los valores númericos a int64***"
   ]
  },
  {
   "cell_type": "code",
   "execution_count": 16,
   "metadata": {},
   "outputs": [
    {
     "data": {
      "text/html": [
       "<div>\n",
       "<style scoped>\n",
       "    .dataframe tbody tr th:only-of-type {\n",
       "        vertical-align: middle;\n",
       "    }\n",
       "\n",
       "    .dataframe tbody tr th {\n",
       "        vertical-align: top;\n",
       "    }\n",
       "\n",
       "    .dataframe thead th {\n",
       "        text-align: right;\n",
       "    }\n",
       "</style>\n",
       "<table border=\"1\" class=\"dataframe\">\n",
       "  <thead>\n",
       "    <tr style=\"text-align: right;\">\n",
       "      <th></th>\n",
       "      <th>Height_cm</th>\n",
       "      <th>Armspan_cm</th>\n",
       "    </tr>\n",
       "  </thead>\n",
       "  <tbody>\n",
       "    <tr>\n",
       "      <th>0</th>\n",
       "      <td>178</td>\n",
       "      <td>186</td>\n",
       "    </tr>\n",
       "    <tr>\n",
       "      <th>1</th>\n",
       "      <td>158</td>\n",
       "      <td>152</td>\n",
       "    </tr>\n",
       "    <tr>\n",
       "      <th>2</th>\n",
       "      <td>174</td>\n",
       "      <td>174</td>\n",
       "    </tr>\n",
       "    <tr>\n",
       "      <th>3</th>\n",
       "      <td>176</td>\n",
       "      <td>183</td>\n",
       "    </tr>\n",
       "    <tr>\n",
       "      <th>4</th>\n",
       "      <td>160</td>\n",
       "      <td>66</td>\n",
       "    </tr>\n",
       "    <tr>\n",
       "      <th>...</th>\n",
       "      <td>...</td>\n",
       "      <td>...</td>\n",
       "    </tr>\n",
       "    <tr>\n",
       "      <th>1660</th>\n",
       "      <td>167</td>\n",
       "      <td>171</td>\n",
       "    </tr>\n",
       "    <tr>\n",
       "      <th>1661</th>\n",
       "      <td>193</td>\n",
       "      <td>197</td>\n",
       "    </tr>\n",
       "    <tr>\n",
       "      <th>1662</th>\n",
       "      <td>66</td>\n",
       "      <td>54</td>\n",
       "    </tr>\n",
       "    <tr>\n",
       "      <th>1663</th>\n",
       "      <td>152</td>\n",
       "      <td>61</td>\n",
       "    </tr>\n",
       "    <tr>\n",
       "      <th>1664</th>\n",
       "      <td>154</td>\n",
       "      <td>152</td>\n",
       "    </tr>\n",
       "  </tbody>\n",
       "</table>\n",
       "<p>1590 rows × 2 columns</p>\n",
       "</div>"
      ],
      "text/plain": [
       "      Height_cm  Armspan_cm\n",
       "0           178         186\n",
       "1           158         152\n",
       "2           174         174\n",
       "3           176         183\n",
       "4           160          66\n",
       "...         ...         ...\n",
       "1660        167         171\n",
       "1661        193         197\n",
       "1662         66          54\n",
       "1663        152          61\n",
       "1664        154         152\n",
       "\n",
       "[1590 rows x 2 columns]"
      ]
     },
     "execution_count": 16,
     "metadata": {},
     "output_type": "execute_result"
    }
   ],
   "source": [
    "df_merged"
   ]
  },
  {
   "cell_type": "code",
   "execution_count": 17,
   "metadata": {},
   "outputs": [
    {
     "name": "stdout",
     "output_type": "stream",
     "text": [
      "<class 'pandas.core.frame.DataFrame'>\n",
      "Index: 1590 entries, 0 to 1664\n",
      "Data columns (total 2 columns):\n",
      " #   Column      Non-Null Count  Dtype\n",
      "---  ------      --------------  -----\n",
      " 0   Height_cm   1590 non-null   int64\n",
      " 1   Armspan_cm  1590 non-null   int64\n",
      "dtypes: int64(2)\n",
      "memory usage: 37.3 KB\n"
     ]
    }
   ],
   "source": [
    "df_merged.info()"
   ]
  },
  {
   "cell_type": "code",
   "execution_count": 18,
   "metadata": {},
   "outputs": [
    {
     "data": {
      "image/png": "[encoded data removed]",
      "text/plain": [
       "<Figure size 640x480 with 1 Axes>"
      ]
     },
     "metadata": {},
     "output_type": "display_data"
    }
   ],
   "source": [
    "df_merged.boxplot(column=['Height_cm', 'Armspan_cm'])\n",
    "plt.title('Boxplot de Height_cm y Armspan_cm')\n",
    "plt.ylabel('Medidas (cm)')\n",
    "plt.show()"
   ]
  },
  {
   "cell_type": "markdown",
   "metadata": {},
   "source": [
    "Dado el anterior gráfico, en el que vemos muchos valores atipicos, la mediana podría ser nuestra mejor opción para rellenar datos de armspan_cm. Solo se le hará imputación de datos a esa columna, y solo se inputarán 9 datos nulos"
   ]
  },
  {
   "cell_type": "code",
   "execution_count": 19,
   "metadata": {},
   "outputs": [],
   "source": [
    "df_merged = df_merged[(df_merged['Height_cm'] <= 252) & (df_merged['Height_cm'] >= 32)]\n",
    "df_merged = df_merged[(df_merged['Armspan_cm'] <= 252) & (df_merged['Armspan_cm'] >= 32)]"
   ]
  },
  {
   "cell_type": "code",
   "execution_count": 20,
   "metadata": {},
   "outputs": [],
   "source": [
    "df_merged['Armspan_cm'] = df_merged['Armspan_cm'].fillna(df_merged['Armspan_cm'].median().astype(int))\n",
    "df_merged['Height_cm'] = df_merged['Height_cm'].fillna(df_merged['Height_cm'].median().astype(int))\n",
    "df_merged['Armspan_cm'] = df_merged['Armspan_cm'].astype(float).round(0).astype(int)"
   ]
  },
  {
   "cell_type": "code",
   "execution_count": 21,
   "metadata": {},
   "outputs": [
    {
     "name": "stdout",
     "output_type": "stream",
     "text": [
      "<class 'pandas.core.frame.DataFrame'>\n",
      "Index: 1510 entries, 0 to 1664\n",
      "Data columns (total 2 columns):\n",
      " #   Column      Non-Null Count  Dtype\n",
      "---  ------      --------------  -----\n",
      " 0   Height_cm   1510 non-null   int64\n",
      " 1   Armspan_cm  1510 non-null   int64\n",
      "dtypes: int64(2)\n",
      "memory usage: 35.4 KB\n"
     ]
    }
   ],
   "source": [
    "df_merged.info()"
   ]
  },
  {
   "cell_type": "code",
   "execution_count": 22,
   "metadata": {},
   "outputs": [
    {
     "name": "stdout",
     "output_type": "stream",
     "text": [
      "<class 'pandas.core.frame.DataFrame'>\n",
      "Index: 1510 entries, 0 to 1664\n",
      "Data columns (total 2 columns):\n",
      " #   Column      Non-Null Count  Dtype\n",
      "---  ------      --------------  -----\n",
      " 0   Height_cm   1510 non-null   int64\n",
      " 1   Armspan_cm  1510 non-null   int64\n",
      "dtypes: int64(2)\n",
      "memory usage: 35.4 KB\n"
     ]
    }
   ],
   "source": [
    "df_merged.info()"
   ]
  },
  {
   "cell_type": "code",
   "execution_count": 23,
   "metadata": {},
   "outputs": [],
   "source": [
    "df_merged.to_csv('../data/merged_data.csv', index=False)"
   ]
  },
  {
   "cell_type": "markdown",
   "metadata": {},
   "source": [
    "**Dado que tenemos 1510 registros, eliminaremos 10 registros manualmente**"
   ]
  }
 ],
 "metadata": {
  "kernelspec": {
   "display_name": "inference-and-statistical-modeling-PnrLPQXu-py3.12",
   "language": "python",
   "name": "python3"
  },
  "language_info": {
   "codemirror_mode": {
    "name": "ipython",
    "version": 3
   },
   "file_extension": ".py",
   "mimetype": "text/x-python",
   "name": "python",
   "nbconvert_exporter": "python",
   "pygments_lexer": "ipython3",
   "version": "3.12.5"
  }
 },
 "nbformat": 4,
 "nbformat_minor": 2
}
